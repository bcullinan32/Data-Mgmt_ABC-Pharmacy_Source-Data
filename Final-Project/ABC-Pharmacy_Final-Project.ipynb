{
 "cells": [
  {
   "cell_type": "markdown",
   "metadata": {},
   "source": [
    "To Do list:\n",
    "- Merge Create DB notebook to this notebook, so it is all pre-packaged for professor\n",
    "    - Make sure to include the create pos_trans_wtob querires/ code\n",
    "\n",
    "- convert to .py and clean-up \n",
    "    - jupyter nbconvert notebook.ipynb --to script"
   ]
  },
  {
   "cell_type": "code",
   "execution_count": 1,
   "metadata": {},
   "outputs": [],
   "source": [
    "# Import Libraries\n",
    "import sqlite3\n",
    "import pandas as pd\n",
    "import numpy as np\n",
    "import matplotlib as mpl, matplotlib.pyplot as plt\n",
    "%matplotlib inline"
   ]
  },
  {
   "cell_type": "markdown",
   "metadata": {},
   "source": [
    "## Prep -- Create DB from Source Files"
   ]
  },
  {
   "cell_type": "code",
   "execution_count": 2,
   "metadata": {},
   "outputs": [],
   "source": [
    "# to be added"
   ]
  },
  {
   "cell_type": "markdown",
   "metadata": {},
   "source": [
    "## Prep -- Get Data from SQLite DB and Prepare Dataframes"
   ]
  },
  {
   "cell_type": "code",
   "execution_count": 3,
   "metadata": {},
   "outputs": [],
   "source": [
    "# Set DB Connection and cursor\n",
    "db = sqlite3.connect('C:/Users/TheCu/OneDrive/Documents/Grad-School-Docs/Foundations-of-DM/Data/ABCPharmacy/ABC_PharmacyDB.sqlite')"
   ]
  },
  {
   "cell_type": "code",
   "execution_count": 4,
   "metadata": {},
   "outputs": [],
   "source": [
    "# Get data from pos_trans_wTOB for sales that are not tobacco\n",
    "sales_notTob_qry = \"\"\"SELECT pm.PHRMCY_NAM, ptwt.phrmcy_nbr, ptwt.prod_nbr, (ptwt.ext_sls_amt * ptwt.sls_qty) as lineTotal \n",
    "FROM pos_trans_wTob ptwt \n",
    "JOIN phrmcy_master pm ON pm.phrmcy_nbr = ptwt.phrmcy_nbr\n",
    "WHERE ptwt.is_tob = 0;\n",
    "\"\"\"\n",
    "sales_notTob = pd.read_sql_query(sales_notTob_qry, db)\n",
    "\n",
    "# Add sales total calculated field and group by pharmacy \n",
    "#sales_notTob[\"sls_sum\"] = sales_notTob[\"ext_sls_amt\"] * sales_notTob[\"sls_qty\"]\n",
    "sales_notTob = sales_notTob.groupby(by = [\"PHRMCY_NAM\"]).sum()\n",
    "sales_notTob = sales_notTob.rename(columns={\"lineTotal\": \"notTobSales\"})\n",
    "\n",
    "# Get data from pos_trans_wTOB for sales that are tobacco\n",
    "sales_isTob_qry = \"\"\"SELECT pm.PHRMCY_NAM, ptwt.phrmcy_nbr, ptwt.prod_nbr, (ptwt.ext_sls_amt * ptwt.sls_qty) as lineTotal \n",
    "FROM pos_trans_wTob ptwt \n",
    "JOIN phrmcy_master pm ON pm.phrmcy_nbr = ptwt.phrmcy_nbr\n",
    "WHERE ptwt.is_tob = 1;\n",
    "\"\"\"\n",
    "sales_isTob = pd.read_sql_query(sales_isTob_qry, db)\n",
    "\n",
    "# Add sales total calculated field and group by pharmacy \n",
    "#sales_isTob[\"sls_sum\"] = sales_isTob[\"ext_sls_amt\"] * sales_isTob[\"sls_qty\"]\n",
    "sales_isTob = sales_isTob.groupby(by = [\"PHRMCY_NAM\"]).sum()\n",
    "sales_isTob = sales_isTob.rename(columns={\"lineTotal\": \"tobSales\"})\n",
    "\n",
    "# Get data for items bought with tobacco\n",
    "bkstsWTob_qry = \"\"\"SELECT phm.PHRMCY_NAM, phm.phrmcy_nbr, phm.st_cd, ptwt.sales_id, ptwt.bskt_id, ptwt.sls_dte_nbr, ptwt.prod_nbr,\n",
    "(ptwt.sls_qty * ptwt.ext_sls_amt) AS lineTotal,\n",
    "pm.PROD_DESC, psc.sub_cat_desc, mpc.major_cat_desc\n",
    "FROM pos_trans_wTob ptwt\n",
    "JOIN prod_master pm ON pm.PROD_NBR = ptwt.prod_nbr\n",
    "JOIN phrmcy_master phm ON phm.phrmcy_nbr = ptwt.phrmcy_nbr\n",
    "JOIN prod_seg ps ON ps.seg_cd = pm.SEGMENT_CD\n",
    "JOIN prod_sub_cat psc on psc.sub_cat_cd = ps.sub_cat_cd\n",
    "JOIN prod_cat pc on pc.cat_cd = psc.cat_cd\n",
    "JOIN major_prod_cat mpc on mpc.major_cat_cd = pc.major_cat_cd\n",
    "WHERE ptwt.bskt_id IN (SELECT DISTINCT ptwt.bskt_id\n",
    "FROM  pos_trans_wTob ptwt\n",
    "WHERE is_tob = 1)\n",
    "AND is_tob = 0\n",
    "ORDER by ptwt.bskt_id ASC, sls_dte_nbr;\n",
    "\"\"\"\n",
    "bkstsWTob = pd.read_sql_query(bkstsWTob_qry, db)\n",
    "\n",
    "# Get pharmacy location data\n",
    "phrmcyLoc_qry = \"\"\"SELECT pm.PHRMCY_NAM, pm.st_cd, pm.zip_3_cd \n",
    "FROM phrmcy_master pm\n",
    "GROUP BY pm.PHRMCY_NAM;\n",
    "\"\"\"\n",
    "phrmcyLoc = pd.read_sql_query(phrmcyLoc_qry, db)"
   ]
  },
  {
   "cell_type": "code",
   "execution_count": 5,
   "metadata": {},
   "outputs": [],
   "source": [
    "# create assoc. items subset dataframe\n",
    "assocItems = bkstsWTob\n",
    "assocItems = assocItems[[\"PHRMCY_NAM\", \"phrmcy_nbr\",\"lineTotal\"]].copy()\n",
    "assocItems = assocItems.rename(columns={\"lineTotal\": \"assocItemSales\"})\n",
    "assocItems = assocItems.groupby(by = [\"PHRMCY_NAM\"]).sum()"
   ]
  },
  {
   "cell_type": "code",
   "execution_count": 6,
   "metadata": {},
   "outputs": [],
   "source": [
    "# join data frames\n",
    "sales_sum = pd.merge(sales_notTob, sales_isTob, left_index=True, right_index=True, how='outer')\n",
    "\n",
    "# refactor - join assoc. items\n",
    "sales_sum = pd.merge(sales_sum, assocItems, left_index=True, right_index=True, how='outer')\n",
    "\n",
    "#reduce fields\n",
    "sales_sum = sales_sum[[\"notTobSales\", \"tobSales\",\"assocItemSales\"]].copy()\n",
    "\n",
    "# replace NaN\n",
    "sales_sum['tobSales'] = sales_sum['tobSales'].fillna(0)\n",
    "sales_sum['assocItemSales'] = sales_sum['assocItemSales'].fillna(0)\n",
    "\n",
    "# remove assoc. items from Not_tob totals\n",
    "sales_sum['notTobSales'] = sales_sum['notTobSales'] - sales_sum['assocItemSales']\n",
    "\n",
    "# add total revenue\n",
    "sales_sum['totalRevenue'] = sales_sum['notTobSales'].fillna(0) + sales_sum['tobSales'] + sales_sum['assocItemSales']\n",
    "\n",
    "# add percent fields\n",
    "sales_sum[\"perNotTob\"] = (sales_sum[\"notTobSales\"] / sales_sum['totalRevenue'])\n",
    "sales_sum[\"perTob\"] = (sales_sum[\"tobSales\"] / sales_sum['totalRevenue'])\n",
    "sales_sum[\"perAssocItems\"]  = (sales_sum[\"assocItemSales\"] / sales_sum['totalRevenue'])"
   ]
  },
  {
   "cell_type": "markdown",
   "metadata": {},
   "source": [
    "## Section 1 -- Tobacco and Cigarette Sales Impact to Overall Revenue and Profit"
   ]
  },
  {
   "cell_type": "code",
   "execution_count": 7,
   "metadata": {
    "scrolled": true
   },
   "outputs": [],
   "source": [
    "# Calculate High Level Overall Revenue Stats\n",
    "allSalesTotal = round(sales_sum[\"totalRevenue\"].sum(skipna=True))\n",
    "notTob_salesTotal = round(sales_sum[\"notTobSales\"].sum(skipna=True))\n",
    "isTob_salesTotal = round(sales_sum[\"tobSales\"].sum(skipna=True))\n",
    "assocItem_salesTotal = round(sales_sum[\"assocItemSales\"].sum(skipna=True))  \n",
    "percentTob = round((isTob_salesTotal / allSalesTotal)*100,1)\n",
    "percentTobwAssoc = round(((isTob_salesTotal + assocItem_salesTotal) / allSalesTotal)*100,1)\n",
    "\n",
    "# Add Revenue Variables to list\n",
    "revList = pd.Series([\"Revenue\", allSalesTotal, notTob_salesTotal, isTob_salesTotal, assocItem_salesTotal, percentTob, percentTobwAssoc])\n",
    "\n"
   ]
  },
  {
   "cell_type": "code",
   "execution_count": 8,
   "metadata": {
    "pycharm": {
     "name": "#%%\n"
    }
   },
   "outputs": [],
   "source": [
    "# Calculate High Level Overall Profit Stats\n",
    "\n",
    "# Set Margins - Based on sources cited in report\n",
    "overallProfMarg = 0.218\n",
    "tobProfMarg = 0.161\n",
    "\n",
    "# Calculate Profit Stats\n",
    "overallProfit = round(allSalesTotal * overallProfMarg)\n",
    "notTobProfit = round(notTob_salesTotal * overallProfMarg)\n",
    "tobProfit = round(isTob_salesTotal * tobProfMarg)\n",
    "assocItemProfit = round(assocItem_salesTotal * overallProfMarg)\n",
    "percentProfTob = round((tobProfit / overallProfit)*100,1)\n",
    "percentProfTobwAssoc = round(((tobProfit + assocItemProfit) / overallProfit)*100,1)\n",
    "\n",
    "# Add Profit Variables to list\n",
    "profList = pd.Series([\"Profit\",overallProfit,notTobProfit,tobProfit, assocItemProfit, percentProfTob, percentProfTobwAssoc])\n",
    "\n"
   ]
  },
  {
   "cell_type": "code",
   "execution_count": 9,
   "metadata": {},
   "outputs": [
    {
     "data": {
      "text/html": [
       "<div>\n",
       "<style scoped>\n",
       "    .dataframe tbody tr th:only-of-type {\n",
       "        vertical-align: middle;\n",
       "    }\n",
       "\n",
       "    .dataframe tbody tr th {\n",
       "        vertical-align: top;\n",
       "    }\n",
       "\n",
       "    .dataframe thead th {\n",
       "        text-align: right;\n",
       "    }\n",
       "</style>\n",
       "<table border=\"1\" class=\"dataframe\">\n",
       "  <thead>\n",
       "    <tr style=\"text-align: right;\">\n",
       "      <th></th>\n",
       "      <th>Type</th>\n",
       "      <th>Overall Total</th>\n",
       "      <th>Not Tobacco Total</th>\n",
       "      <th>Tobacco Total</th>\n",
       "      <th>Assoc. Item Total</th>\n",
       "      <th>Percent of Tobacco</th>\n",
       "      <th>Percent of Tobacco w/ Assoc. Item</th>\n",
       "    </tr>\n",
       "  </thead>\n",
       "  <tbody>\n",
       "    <tr>\n",
       "      <th>0</th>\n",
       "      <td>Revenue</td>\n",
       "      <td>17283853</td>\n",
       "      <td>16519000</td>\n",
       "      <td>677874</td>\n",
       "      <td>86979</td>\n",
       "      <td>3.9</td>\n",
       "      <td>4.4</td>\n",
       "    </tr>\n",
       "    <tr>\n",
       "      <th>1</th>\n",
       "      <td>Profit</td>\n",
       "      <td>3767880</td>\n",
       "      <td>3601142</td>\n",
       "      <td>109138</td>\n",
       "      <td>18961</td>\n",
       "      <td>2.9</td>\n",
       "      <td>3.4</td>\n",
       "    </tr>\n",
       "  </tbody>\n",
       "</table>\n",
       "</div>"
      ],
      "text/plain": [
       "      Type  Overall Total  Not Tobacco Total  Tobacco Total  \\\n",
       "0  Revenue       17283853           16519000         677874   \n",
       "1   Profit        3767880            3601142         109138   \n",
       "\n",
       "   Assoc. Item Total  Percent of Tobacco  Percent of Tobacco w/ Assoc. Item  \n",
       "0              86979                 3.9                                4.4  \n",
       "1              18961                 2.9                                3.4  "
      ]
     },
     "execution_count": 9,
     "metadata": {},
     "output_type": "execute_result"
    }
   ],
   "source": [
    "#Merge Lists in Dataframe\n",
    "revProfReport = pd.DataFrame([list(revList), list(profList)],\n",
    "                             columns =  [\"Type\", \"Overall Total\", \"Not Tobacco Total\", \"Tobacco Total\", \"Assoc. Item Total\",\n",
    "                                         \"Percent of Tobacco\", \"Percent of Tobacco w/ Assoc. Item\"])\n",
    "# Print Report\n",
    "revProfReport"
   ]
  },
  {
   "cell_type": "code",
   "execution_count": 10,
   "metadata": {},
   "outputs": [
    {
     "name": "stdout",
     "output_type": "stream",
     "text": [
      "Profit Loss Report:\n",
      "Projected profit reduction for six months: $ 128099\n",
      "Percent of profit lost: 3.4\n",
      "New projected six month profit: $ 3601142\n",
      "\n"
     ]
    }
   ],
   "source": [
    "#Calculate Profit Losses\n",
    "lostProf = (tobProfit + assocItemProfit)\n",
    "perOfProfLost = round((lostProf/overallProfit)*100,1)\n",
    "newOverallProf = notTobProfit\n",
    "\n",
    "\n",
    "#Print Report\n",
    "print(\"Profit Loss Report:\")\n",
    "print(f\"Projected profit reduction for six months: $\",lostProf)\n",
    "print(f\"Percent of profit lost:\",perOfProfLost)\n",
    "print(f\"New projected six month profit: $\", newOverallProf)\n",
    "print()"
   ]
  },
  {
   "cell_type": "code",
   "execution_count": 11,
   "metadata": {},
   "outputs": [
    {
     "data": {
      "image/png": "[encoded data removed]",
      "text/plain": [
       "<Figure size 432x288 with 1 Axes>"
      ]
     },
     "metadata": {},
     "output_type": "display_data"
    }
   ],
   "source": [
    "# Percent of total revenue pie chart\n",
    "salesTotalList = ([notTob_salesTotal,isTob_salesTotal,assocItem_salesTotal])\n",
    "labels = [\"Not Tobacco\", \"Tobacco\",\"Items w/ Tobacco\"]\n",
    "\n",
    "plt.pie(salesTotalList, labels = labels,\n",
    "        autopct='%1.1f%%', shadow = True, radius=1.25)\n",
    "plt.title('Percentage of Tobacco Revenue \\nIncluding Associated Items', fontsize = 16, fontweight = \"bold\", loc=\"right\")\n",
    "plt.show()"
   ]
  },
  {
   "cell_type": "code",
   "execution_count": 12,
   "metadata": {
    "pycharm": {
     "name": "#%%\n"
    }
   },
   "outputs": [
    {
     "data": {
      "image/png": "[encoded data removed]",
      "text/plain": [
       "<Figure size 432x288 with 1 Axes>"
      ]
     },
     "metadata": {},
     "output_type": "display_data"
    }
   ],
   "source": [
    "# add profit pie chart\n",
    "# Percent of total revenue pie chart\n",
    "profitTotalList = ([overallProfit,tobProfit,assocItemProfit ])\n",
    "labels = [\"Not Tobacco\", \"Tobacco\",\"Items w/ Tobacco\"]\n",
    "\n",
    "plt.pie(profitTotalList, labels = labels,\n",
    "        autopct='%1.1f%%', shadow = True, radius=1.25)\n",
    "plt.title('Percentage of Tobacco Profit \\nIncluding Associated Items', fontsize = 16, fontweight = \"bold\", loc=\"right\")\n",
    "plt.show()"
   ]
  },
  {
   "cell_type": "markdown",
   "metadata": {},
   "source": [
    "## Section 2 -- Branch Level Impacts"
   ]
  },
  {
   "cell_type": "code",
   "execution_count": 13,
   "metadata": {},
   "outputs": [
    {
     "name": "stdout",
     "output_type": "stream",
     "text": [
      "Branches with and without tobacco sales:\n",
      "The total number of ABC Pharmacy branches: 106\n",
      "The total number of ABC Pharmacy branches that do not sell tobacco: 79\n",
      "The total number of ABC Pharmacy branches that do sell tobacco: 27\n",
      "\n"
     ]
    }
   ],
   "source": [
    "# Show # of Branches that Do/ Do Not Sell Tobacco\n",
    "# REVISIT -- don't like that I do this two different ways\n",
    "\n",
    "numBranch_total = len(sales_sum)\n",
    "numBranch_noTob = len(sales_sum[sales_sum['tobSales'] == 0])\n",
    "numBranch_wTob = len(sales_sum[sales_sum['tobSales'] > 0])\n",
    "\n",
    "print (\"Branches with and without tobacco sales:\")\n",
    "print(f\"The total number of ABC Pharmacy branches:\",numBranch_total)\n",
    "print(f\"The total number of ABC Pharmacy branches that do not sell tobacco:\",numBranch_noTob)\n",
    "print(f\"The total number of ABC Pharmacy branches that do sell tobacco:\", numBranch_wTob)\n",
    "print()"
   ]
  },
  {
   "cell_type": "code",
   "execution_count": 14,
   "metadata": {
    "scrolled": true
   },
   "outputs": [
    {
     "data": {
      "image/png": "[encoded data removed]",
      "text/plain": [
       "<Figure size 1152x864 with 1 Axes>"
      ]
     },
     "metadata": {
      "needs_background": "light"
     },
     "output_type": "display_data"
    }
   ],
   "source": [
    "# Prep for bar chart display - subset to branches that sell tobacco & group by \n",
    "bl_sales_sum = sales_sum[[\"perNotTob\", \"perTob\", \"perAssocItems\"]].copy()\n",
    "\n",
    "bl_sales_sum = bl_sales_sum[bl_sales_sum['perTob'] > 0]\n",
    "bl_sales_sum.sort_values(by=['perTob'], inplace = True, ascending= True)\n",
    "\n",
    "bl_sales_sum.plot(kind ='barh', stacked = 'true', \n",
    "                  align ='edge', figsize = (16, 12))\n",
    "plt.title('Percentage of Tobacco Revenue by Branch', fontsize = 16, fontweight = \"bold\")\n",
    "plt.xlabel('Percentage', fontsize = 14)\n",
    "plt.ylabel('Branch', fontsize = 14)\n",
    "plt.legend(loc='lower right')\n",
    "plt.show()"
   ]
  },
  {
   "cell_type": "markdown",
   "metadata": {},
   "source": [
    "### Categorize Branches"
   ]
  },
  {
   "cell_type": "code",
   "execution_count": 15,
   "metadata": {},
   "outputs": [
    {
     "name": "stdout",
     "output_type": "stream",
     "text": [
      "Branch Risk Categorizations:\n",
      "Number of high risk branches as defined by percent of revenue over 21.8 % is: 9\n",
      "Number of medium risk branches as defined by percent of revenue over 5.0 % but lower than 21.8 % is: 4\n",
      "Number of low risk branches as defined by percent of revenue less than 5.0 is: 14\n",
      "Number of no risk branches that do not sell tobacco is:  79\n",
      "\n"
     ]
    }
   ],
   "source": [
    "# assign risk level based on conditions\n",
    "atRiskBranch = sales_sum\n",
    "\n",
    "# Classify Risk Category based on % of Rev\n",
    "medPerLower = 0.782\n",
    "lowPerLower = 0.95\n",
    "\n",
    "riskPerConditions = [\n",
    "    (atRiskBranch['perTob'] == 0),\n",
    "    (atRiskBranch['perNotTob'] < medPerLower),\n",
    "    (atRiskBranch['perNotTob'] < lowPerLower) & (atRiskBranch['perNotTob'] > medPerLower),\n",
    "    (atRiskBranch['perNotTob'] > lowPerLower),\n",
    "]\n",
    "riskPerCat = ['0 - No Risk','3 - High', '2 - Medium', '1 - Low']\n",
    "\n",
    "atRiskBranch['riskLevel'] = np.select(riskPerConditions, riskPerCat)\n",
    "\n",
    "# Repot Risk Counts\n",
    "countHighRisk = len(atRiskBranch[atRiskBranch['riskLevel'] == '3 - High']) \n",
    "countMedRisk = len(atRiskBranch[atRiskBranch['riskLevel'] == '2 - Medium']) \n",
    "countHLowRisk = len(atRiskBranch[atRiskBranch['riskLevel'] == '1 - Low'])\n",
    "countNoRisk = len(atRiskBranch[atRiskBranch['riskLevel'] == '0 - No Risk'])\n",
    "\n",
    "print(\"Branch Risk Categorizations:\")\n",
    "print(f\"Number of high risk branches as defined by percent of revenue over\", round((1-medPerLower)*100,1),\n",
    "      \"% is:\", countHighRisk)\n",
    "print(f\"Number of medium risk branches as defined by percent of revenue over\", round((1-lowPerLower)*100,1),\n",
    "      \"% but lower than\",round((1-medPerLower)*100,1),\"% is:\",countMedRisk)\n",
    "print(f\"Number of low risk branches as defined by percent of revenue less than\",round((1-lowPerLower)*100,1),\n",
    "      \"is:\",countHLowRisk)\n",
    "print(f\"Number of no risk branches that do not sell tobacco is: \", countNoRisk)\n",
    "print()"
   ]
  },
  {
   "cell_type": "code",
   "execution_count": 16,
   "metadata": {},
   "outputs": [
    {
     "data": {
      "text/html": [
       "<div>\n",
       "<style scoped>\n",
       "    .dataframe tbody tr th:only-of-type {\n",
       "        vertical-align: middle;\n",
       "    }\n",
       "\n",
       "    .dataframe tbody tr th {\n",
       "        vertical-align: top;\n",
       "    }\n",
       "\n",
       "    .dataframe thead th {\n",
       "        text-align: right;\n",
       "    }\n",
       "</style>\n",
       "<table border=\"1\" class=\"dataframe\">\n",
       "  <thead>\n",
       "    <tr style=\"text-align: right;\">\n",
       "      <th></th>\n",
       "      <th>notTobSales</th>\n",
       "      <th>tobSales</th>\n",
       "      <th>assocItemSales</th>\n",
       "      <th>revenueSum</th>\n",
       "      <th>revenuePercent</th>\n",
       "      <th>notTabPer</th>\n",
       "      <th>tobPer</th>\n",
       "      <th>assocItemPer</th>\n",
       "    </tr>\n",
       "    <tr>\n",
       "      <th>riskLevel</th>\n",
       "      <th></th>\n",
       "      <th></th>\n",
       "      <th></th>\n",
       "      <th></th>\n",
       "      <th></th>\n",
       "      <th></th>\n",
       "      <th></th>\n",
       "      <th></th>\n",
       "    </tr>\n",
       "  </thead>\n",
       "  <tbody>\n",
       "    <tr>\n",
       "      <th>0 - No Risk</th>\n",
       "      <td>9162714.0</td>\n",
       "      <td>0.0</td>\n",
       "      <td>0.0</td>\n",
       "      <td>9162718.0</td>\n",
       "      <td>53.0</td>\n",
       "      <td>100.0</td>\n",
       "      <td>0.0</td>\n",
       "      <td>0.0</td>\n",
       "    </tr>\n",
       "    <tr>\n",
       "      <th>1 - Low</th>\n",
       "      <td>5951248.0</td>\n",
       "      <td>40902.0</td>\n",
       "      <td>7244.0</td>\n",
       "      <td>5999394.0</td>\n",
       "      <td>34.7</td>\n",
       "      <td>99.2</td>\n",
       "      <td>0.7</td>\n",
       "      <td>0.1</td>\n",
       "    </tr>\n",
       "    <tr>\n",
       "      <th>2 - Medium</th>\n",
       "      <td>602817.0</td>\n",
       "      <td>66523.0</td>\n",
       "      <td>4075.0</td>\n",
       "      <td>673415.0</td>\n",
       "      <td>3.9</td>\n",
       "      <td>89.5</td>\n",
       "      <td>9.9</td>\n",
       "      <td>0.6</td>\n",
       "    </tr>\n",
       "    <tr>\n",
       "      <th>3 - High</th>\n",
       "      <td>802220.0</td>\n",
       "      <td>570449.0</td>\n",
       "      <td>75659.0</td>\n",
       "      <td>1448330.0</td>\n",
       "      <td>8.4</td>\n",
       "      <td>55.4</td>\n",
       "      <td>39.4</td>\n",
       "      <td>5.2</td>\n",
       "    </tr>\n",
       "  </tbody>\n",
       "</table>\n",
       "</div>"
      ],
      "text/plain": [
       "             notTobSales  tobSales  assocItemSales  revenueSum  \\\n",
       "riskLevel                                                        \n",
       "0 - No Risk    9162714.0       0.0             0.0   9162718.0   \n",
       "1 - Low        5951248.0   40902.0          7244.0   5999394.0   \n",
       "2 - Medium      602817.0   66523.0          4075.0    673415.0   \n",
       "3 - High        802220.0  570449.0         75659.0   1448330.0   \n",
       "\n",
       "             revenuePercent  notTabPer  tobPer  assocItemPer  \n",
       "riskLevel                                                     \n",
       "0 - No Risk            53.0      100.0     0.0           0.0  \n",
       "1 - Low                34.7       99.2     0.7           0.1  \n",
       "2 - Medium              3.9       89.5     9.9           0.6  \n",
       "3 - High                8.4       55.4    39.4           5.2  "
      ]
     },
     "execution_count": 16,
     "metadata": {},
     "output_type": "execute_result"
    }
   ],
   "source": [
    "# Prepare Risk Summary\n",
    "atRiskBranchSummary = atRiskBranch\n",
    "atRiskBranchSummary = atRiskBranch[['notTobSales','tobSales','assocItemSales','riskLevel']].copy()\n",
    "atRiskBranchSummary['revenueSum'] = round(atRiskBranchSummary['notTobSales'] + atRiskBranchSummary['tobSales'] + atRiskBranchSummary['assocItemSales'])\n",
    "atRiskBranchSummary = atRiskBranchSummary.groupby(by = [\"riskLevel\"]).sum()\n",
    "\n",
    "# Round Fields\n",
    "atRiskBranchSummary['notTobSales'] = round(atRiskBranchSummary['notTobSales'])\n",
    "atRiskBranchSummary['tobSales'] = round(atRiskBranchSummary['tobSales'])\n",
    "atRiskBranchSummary['assocItemSales'] = round(atRiskBranchSummary['assocItemSales'])\n",
    "\n",
    "# Add Calculated Fields\n",
    "atRiskBranchSummary['revenuePercent'] = round((atRiskBranchSummary['revenueSum']/allSalesTotal*100),1) \n",
    "atRiskBranchSummary['notTabPer'] = round((atRiskBranchSummary['notTobSales']/ atRiskBranchSummary['revenueSum']*100),1)\n",
    "atRiskBranchSummary['tobPer'] = round((atRiskBranchSummary['tobSales']/ atRiskBranchSummary['revenueSum']*100),1)\n",
    "atRiskBranchSummary['assocItemPer'] = round((atRiskBranchSummary['assocItemSales']/ atRiskBranchSummary['revenueSum']*100),1)\n",
    "\n",
    "#Format Display\n",
    "atRiskBranchSummary\n"
   ]
  },
  {
   "cell_type": "code",
   "execution_count": 17,
   "metadata": {
    "pycharm": {
     "name": "#%%\n"
    }
   },
   "outputs": [
    {
     "data": {
      "image/png": "[encoded data removed]",
      "text/plain": [
       "<Figure size 864x432 with 1 Axes>"
      ]
     },
     "metadata": {
      "needs_background": "light"
     },
     "output_type": "display_data"
    }
   ],
   "source": [
    "# Prep for bar chart display - subset to branches that sell tobacco & group by\n",
    "rl_sales_sum = atRiskBranch[['notTobSales','tobSales','assocItemSales','riskLevel']].copy()\n",
    "rl_sales_sum = rl_sales_sum.groupby(by = [\"riskLevel\"]).sum()\n",
    "rl_sales_sum.sort_values(by=['riskLevel'], inplace = True, ascending= False)\n",
    "\n",
    "#Display bar chart\n",
    "rl_sales_sum.plot(kind ='bar', stacked = 'true',\n",
    "                   align ='edge', figsize = (12, 6))\n",
    "plt.title('Total Revenue by Risk Level', fontsize = 18, fontweight = \"bold\")\n",
    "plt.xlabel('Branch Risk Level', fontsize = 16)\n",
    "plt.ylabel('Revenue in Millions', fontsize = 16)\n",
    "plt.yticks(np.arange(0, 10000000, 1000000))\n",
    "plt.grid()\n",
    "plt.legend(loc='lower right')\n",
    "plt.show()"
   ]
  },
  {
   "cell_type": "markdown",
   "metadata": {},
   "source": [
    "### Deep Dive into High Risk Branches"
   ]
  },
  {
   "cell_type": "code",
   "execution_count": 18,
   "metadata": {},
   "outputs": [],
   "source": [
    "#Merge Dataframes\n",
    "phrmcyLoc.set_index([\"PHRMCY_NAM\"], inplace = True)\n",
    "highRiskBranch = atRiskBranch[atRiskBranch['riskLevel'] == '3 - High']\n",
    "highRiskBranch = pd.merge(highRiskBranch, phrmcyLoc, left_index=True, right_index=True, how='left')"
   ]
  },
  {
   "cell_type": "code",
   "execution_count": 19,
   "metadata": {},
   "outputs": [
    {
     "data": {
      "text/html": [
       "<div>\n",
       "<style scoped>\n",
       "    .dataframe tbody tr th:only-of-type {\n",
       "        vertical-align: middle;\n",
       "    }\n",
       "\n",
       "    .dataframe tbody tr th {\n",
       "        vertical-align: top;\n",
       "    }\n",
       "\n",
       "    .dataframe thead th {\n",
       "        text-align: right;\n",
       "    }\n",
       "</style>\n",
       "<table border=\"1\" class=\"dataframe\">\n",
       "  <thead>\n",
       "    <tr style=\"text-align: right;\">\n",
       "      <th></th>\n",
       "      <th>notTobSales</th>\n",
       "      <th>tobSales</th>\n",
       "      <th>assocItemSales</th>\n",
       "      <th>totalRevenue</th>\n",
       "      <th>perNotTob</th>\n",
       "      <th>perTob</th>\n",
       "      <th>perAssocItems</th>\n",
       "      <th>st_cd</th>\n",
       "    </tr>\n",
       "    <tr>\n",
       "      <th>PHRMCY_NAM</th>\n",
       "      <th></th>\n",
       "      <th></th>\n",
       "      <th></th>\n",
       "      <th></th>\n",
       "      <th></th>\n",
       "      <th></th>\n",
       "      <th></th>\n",
       "      <th></th>\n",
       "    </tr>\n",
       "  </thead>\n",
       "  <tbody>\n",
       "    <tr>\n",
       "      <th>GNP PHARMACY #935</th>\n",
       "      <td>83768.0</td>\n",
       "      <td>24939.0</td>\n",
       "      <td>849.0</td>\n",
       "      <td>109556.0</td>\n",
       "      <td>76.5</td>\n",
       "      <td>22.8</td>\n",
       "      <td>0.8</td>\n",
       "      <td>NY</td>\n",
       "    </tr>\n",
       "    <tr>\n",
       "      <th>GNP PHARMACY #800</th>\n",
       "      <td>1829.0</td>\n",
       "      <td>510.0</td>\n",
       "      <td>82.0</td>\n",
       "      <td>2421.0</td>\n",
       "      <td>75.5</td>\n",
       "      <td>21.1</td>\n",
       "      <td>3.4</td>\n",
       "      <td>ME</td>\n",
       "    </tr>\n",
       "    <tr>\n",
       "      <th>GNP PHARMACY #102</th>\n",
       "      <td>84461.0</td>\n",
       "      <td>29834.0</td>\n",
       "      <td>2308.0</td>\n",
       "      <td>116604.0</td>\n",
       "      <td>72.4</td>\n",
       "      <td>25.6</td>\n",
       "      <td>2.0</td>\n",
       "      <td>NY</td>\n",
       "    </tr>\n",
       "    <tr>\n",
       "      <th>GNP PHARMACY #911</th>\n",
       "      <td>39525.0</td>\n",
       "      <td>10484.0</td>\n",
       "      <td>6088.0</td>\n",
       "      <td>56096.0</td>\n",
       "      <td>70.5</td>\n",
       "      <td>18.7</td>\n",
       "      <td>10.9</td>\n",
       "      <td>CT</td>\n",
       "    </tr>\n",
       "    <tr>\n",
       "      <th>GNP PHARMACY #877</th>\n",
       "      <td>50001.0</td>\n",
       "      <td>25757.0</td>\n",
       "      <td>9704.0</td>\n",
       "      <td>85462.0</td>\n",
       "      <td>58.5</td>\n",
       "      <td>30.1</td>\n",
       "      <td>11.4</td>\n",
       "      <td>CT</td>\n",
       "    </tr>\n",
       "    <tr>\n",
       "      <th>GNP PHARMACY #795</th>\n",
       "      <td>288139.0</td>\n",
       "      <td>215068.0</td>\n",
       "      <td>16302.0</td>\n",
       "      <td>519509.0</td>\n",
       "      <td>55.5</td>\n",
       "      <td>41.4</td>\n",
       "      <td>3.1</td>\n",
       "      <td>NJ</td>\n",
       "    </tr>\n",
       "    <tr>\n",
       "      <th>GNP PHARMACY #588</th>\n",
       "      <td>120771.0</td>\n",
       "      <td>65145.0</td>\n",
       "      <td>33597.0</td>\n",
       "      <td>219513.0</td>\n",
       "      <td>55.0</td>\n",
       "      <td>29.7</td>\n",
       "      <td>15.3</td>\n",
       "      <td>CT</td>\n",
       "    </tr>\n",
       "    <tr>\n",
       "      <th>GNP PHARMACY #265</th>\n",
       "      <td>8859.0</td>\n",
       "      <td>8554.0</td>\n",
       "      <td>552.0</td>\n",
       "      <td>17965.0</td>\n",
       "      <td>49.3</td>\n",
       "      <td>47.6</td>\n",
       "      <td>3.1</td>\n",
       "      <td>NJ</td>\n",
       "    </tr>\n",
       "    <tr>\n",
       "      <th>GNP PHARMACY #750</th>\n",
       "      <td>124868.0</td>\n",
       "      <td>190159.0</td>\n",
       "      <td>6177.0</td>\n",
       "      <td>321204.0</td>\n",
       "      <td>38.9</td>\n",
       "      <td>59.2</td>\n",
       "      <td>1.9</td>\n",
       "      <td>NJ</td>\n",
       "    </tr>\n",
       "  </tbody>\n",
       "</table>\n",
       "</div>"
      ],
      "text/plain": [
       "                   notTobSales  tobSales  assocItemSales  totalRevenue  \\\n",
       "PHRMCY_NAM                                                               \n",
       "GNP PHARMACY #935      83768.0   24939.0           849.0      109556.0   \n",
       "GNP PHARMACY #800       1829.0     510.0            82.0        2421.0   \n",
       "GNP PHARMACY #102      84461.0   29834.0          2308.0      116604.0   \n",
       "GNP PHARMACY #911      39525.0   10484.0          6088.0       56096.0   \n",
       "GNP PHARMACY #877      50001.0   25757.0          9704.0       85462.0   \n",
       "GNP PHARMACY #795     288139.0  215068.0         16302.0      519509.0   \n",
       "GNP PHARMACY #588     120771.0   65145.0         33597.0      219513.0   \n",
       "GNP PHARMACY #265       8859.0    8554.0           552.0       17965.0   \n",
       "GNP PHARMACY #750     124868.0  190159.0          6177.0      321204.0   \n",
       "\n",
       "                   perNotTob  perTob  perAssocItems st_cd  \n",
       "PHRMCY_NAM                                                 \n",
       "GNP PHARMACY #935       76.5    22.8            0.8    NY  \n",
       "GNP PHARMACY #800       75.5    21.1            3.4    ME  \n",
       "GNP PHARMACY #102       72.4    25.6            2.0    NY  \n",
       "GNP PHARMACY #911       70.5    18.7           10.9    CT  \n",
       "GNP PHARMACY #877       58.5    30.1           11.4    CT  \n",
       "GNP PHARMACY #795       55.5    41.4            3.1    NJ  \n",
       "GNP PHARMACY #588       55.0    29.7           15.3    CT  \n",
       "GNP PHARMACY #265       49.3    47.6            3.1    NJ  \n",
       "GNP PHARMACY #750       38.9    59.2            1.9    NJ  "
      ]
     },
     "execution_count": 19,
     "metadata": {},
     "output_type": "execute_result"
    }
   ],
   "source": [
    "#Prepare Summary Report\n",
    "highRiskBranch= highRiskBranch[[\"notTobSales\",\"tobSales\",\"assocItemSales\", \"totalRevenue\", \"perNotTob\", \"perTob\", \"perAssocItems\", \"st_cd\"]].copy()\n",
    "highRiskBranch['perNotTob'] = round(highRiskBranch['perNotTob']*100,1)\n",
    "highRiskBranch['perTob'] = round(highRiskBranch['perTob']*100,1)\n",
    "highRiskBranch['perAssocItems'] = round(highRiskBranch['perAssocItems']*100,1)\n",
    "highRiskBranch.sort_values(by=['perNotTob'], inplace = True, ascending= False)\n",
    "\n",
    "# Round Fields\n",
    "highRiskBranch['notTobSales'] = round(highRiskBranch['notTobSales'])\n",
    "highRiskBranch['tobSales'] = round(highRiskBranch['tobSales'])\n",
    "highRiskBranch['assocItemSales'] = round(highRiskBranch['assocItemSales'])\n",
    "highRiskBranch['totalRevenue'] = round(highRiskBranch['totalRevenue'])\n",
    "\n",
    "highRiskBranch"
   ]
  },
  {
   "cell_type": "code",
   "execution_count": 20,
   "metadata": {},
   "outputs": [
    {
     "data": {
      "image/png": "[encoded data removed]",
      "text/plain": [
       "<Figure size 1152x864 with 1 Axes>"
      ]
     },
     "metadata": {
      "needs_background": "light"
     },
     "output_type": "display_data"
    }
   ],
   "source": [
    "# Prep for bar chart display - subset to branches that sell tobacco & group by \n",
    "highRiskSalesPlot = highRiskBranch[[\"perNotTob\", \"perTob\", \"perAssocItems\"]].copy()\n",
    "\n",
    "highRiskSalesPlot = highRiskSalesPlot[highRiskSalesPlot['perTob'] >= 0.218]\n",
    "highRiskSalesPlot.sort_values(by=['perNotTob'], inplace = True, ascending= False)\n",
    "\n",
    "highRiskSalesPlot.plot(kind ='barh', stacked = 'true', \n",
    "                  align ='edge', figsize = (16, 12))\n",
    "plt.title('Percentage of Tobacco Revenue by High Risk Branch', fontsize = 16, fontweight = \"bold\")\n",
    "plt.xlabel('Percentage', fontsize = 14)\n",
    "plt.ylabel('Branch', fontsize = 14)\n",
    "plt.legend(loc='lower right')\n",
    "plt.show()"
   ]
  },
  {
   "cell_type": "code",
   "execution_count": 21,
   "metadata": {},
   "outputs": [
    {
     "data": {
      "text/html": [
       "<div>\n",
       "<style scoped>\n",
       "    .dataframe tbody tr th:only-of-type {\n",
       "        vertical-align: middle;\n",
       "    }\n",
       "\n",
       "    .dataframe tbody tr th {\n",
       "        vertical-align: top;\n",
       "    }\n",
       "\n",
       "    .dataframe thead th {\n",
       "        text-align: right;\n",
       "    }\n",
       "</style>\n",
       "<table border=\"1\" class=\"dataframe\">\n",
       "  <thead>\n",
       "    <tr style=\"text-align: right;\">\n",
       "      <th></th>\n",
       "      <th>CurrentBranchProfit</th>\n",
       "      <th>NewProfit</th>\n",
       "    </tr>\n",
       "    <tr>\n",
       "      <th>PHRMCY_NAM</th>\n",
       "      <th></th>\n",
       "      <th></th>\n",
       "    </tr>\n",
       "  </thead>\n",
       "  <tbody>\n",
       "    <tr>\n",
       "      <th>GNP PHARMACY #800</th>\n",
       "      <td>499.0</td>\n",
       "      <td>399.0</td>\n",
       "    </tr>\n",
       "    <tr>\n",
       "      <th>GNP PHARMACY #265</th>\n",
       "      <td>3429.0</td>\n",
       "      <td>1931.0</td>\n",
       "    </tr>\n",
       "    <tr>\n",
       "      <th>GNP PHARMACY #911</th>\n",
       "      <td>11632.0</td>\n",
       "      <td>8616.0</td>\n",
       "    </tr>\n",
       "    <tr>\n",
       "      <th>GNP PHARMACY #877</th>\n",
       "      <td>17163.0</td>\n",
       "      <td>10900.0</td>\n",
       "    </tr>\n",
       "    <tr>\n",
       "      <th>GNP PHARMACY #935</th>\n",
       "      <td>22462.0</td>\n",
       "      <td>18261.0</td>\n",
       "    </tr>\n",
       "    <tr>\n",
       "      <th>GNP PHARMACY #102</th>\n",
       "      <td>23719.0</td>\n",
       "      <td>18412.0</td>\n",
       "    </tr>\n",
       "    <tr>\n",
       "      <th>GNP PHARMACY #588</th>\n",
       "      <td>44141.0</td>\n",
       "      <td>26328.0</td>\n",
       "    </tr>\n",
       "    <tr>\n",
       "      <th>GNP PHARMACY #750</th>\n",
       "      <td>59183.0</td>\n",
       "      <td>27221.0</td>\n",
       "    </tr>\n",
       "    <tr>\n",
       "      <th>GNP PHARMACY #795</th>\n",
       "      <td>100994.0</td>\n",
       "      <td>62814.0</td>\n",
       "    </tr>\n",
       "  </tbody>\n",
       "</table>\n",
       "</div>"
      ],
      "text/plain": [
       "                   CurrentBranchProfit  NewProfit\n",
       "PHRMCY_NAM                                       \n",
       "GNP PHARMACY #800                499.0      399.0\n",
       "GNP PHARMACY #265               3429.0     1931.0\n",
       "GNP PHARMACY #911              11632.0     8616.0\n",
       "GNP PHARMACY #877              17163.0    10900.0\n",
       "GNP PHARMACY #935              22462.0    18261.0\n",
       "GNP PHARMACY #102              23719.0    18412.0\n",
       "GNP PHARMACY #588              44141.0    26328.0\n",
       "GNP PHARMACY #750              59183.0    27221.0\n",
       "GNP PHARMACY #795             100994.0    62814.0"
      ]
     },
     "execution_count": 21,
     "metadata": {},
     "output_type": "execute_result"
    }
   ],
   "source": [
    "# High Risk Branch Profits\n",
    "\n",
    "# prepare dataframe \n",
    "highRiskBranchProfit = highRiskBranch\n",
    "highRiskBranchProfit= highRiskBranchProfit[[\"notTobSales\",\"tobSales\",\"assocItemSales\",\"totalRevenue\"]].copy()\n",
    "\n",
    "# Calculate Current Profit\n",
    "highRiskBranchProfit['ProfitFromTob'] = highRiskBranchProfit['tobSales'] * tobProfMarg\n",
    "highRiskBranchProfit['ProfitFromAssocItems'] = highRiskBranchProfit['assocItemSales'] * overallProfMarg\n",
    "highRiskBranchProfit['ProfitFromNotTob'] = highRiskBranchProfit['notTobSales'] * overallProfMarg\n",
    "highRiskBranchProfit['CurrentBranchProfit'] = round(highRiskBranchProfit['ProfitFromTob'] + highRiskBranchProfit['ProfitFromAssocItems'] + highRiskBranchProfit['ProfitFromNotTob']) \n",
    "\n",
    "#Calculate New Profit\n",
    "highRiskBranchProfit['NewProfit'] = round(highRiskBranchProfit['ProfitFromNotTob'])\n",
    "\n",
    "#format and display report\n",
    "highRiskBranchProfit = highRiskBranchProfit[[\"CurrentBranchProfit\",\"NewProfit\"]].copy()\n",
    "highRiskBranchProfit.sort_values(by=['NewProfit'], inplace = True, ascending= True)\n",
    "highRiskBranchProfit"
   ]
  },
  {
   "cell_type": "code",
   "execution_count": 22,
   "metadata": {},
   "outputs": [
    {
     "name": "stdout",
     "output_type": "stream",
     "text": [
      "Profit impact from High Risk Branches:\n",
      "Sum of current profit for High Risk Branches is $ 283222 which accounts for 7.5 % of overall profit\n",
      "Sum of projected new profit for High Risk Branches is $ 174882 which accounts for 4.6 % of overall profit\n",
      "This represents a loss of $ 108340 and 2.9 % in profit\n",
      "\n"
     ]
    }
   ],
   "source": [
    "#Calculate Profit for High Risk Branches\n",
    "highRiskCurrentProfit = round(highRiskBranchProfit[\"CurrentBranchProfit\"].sum())\n",
    "highRiskCurrentPer = round((highRiskCurrentProfit/overallProfit)*100,1)\n",
    "\n",
    "#Calculate Updated Profit for High Risk Braches\n",
    "highRiskNewProfit = round(highRiskBranchProfit[\"NewProfit\"].sum())\n",
    "highRiskNewPer = round((highRiskNewProfit/overallProfit)*100,1)\n",
    "\n",
    "#Calculate Diffs\n",
    "diffProfit = round(highRiskCurrentProfit - highRiskNewProfit)\n",
    "diffProfitPer = round((highRiskCurrentPer - highRiskNewPer),1)\n",
    "\n",
    "#Print Report\n",
    "print(\"Profit impact from High Risk Branches:\")\n",
    "print(f\"Sum of current profit for High Risk Branches is $\",highRiskCurrentProfit, \"which accounts for\",\n",
    "      highRiskCurrentPer,\"% of overall profit\")\n",
    "print(f\"Sum of projected new profit for High Risk Branches is $\",highRiskNewProfit, \"which accounts for\",\n",
    "      highRiskNewPer,\"% of overall profit\")\n",
    "print(f\"This represents a loss of $\", diffProfit, \"and\", diffProfitPer, \"% in profit\" )\n",
    "print()"
   ]
  },
  {
   "cell_type": "markdown",
   "metadata": {},
   "source": [
    "## Section 3 -- Associated Item Sales"
   ]
  },
  {
   "cell_type": "code",
   "execution_count": 23,
   "metadata": {},
   "outputs": [
    {
     "data": {
      "text/plain": [
       "count      161.000000\n",
       "mean       540.241925\n",
       "std       3209.523651\n",
       "min          1.830000\n",
       "25%         23.460000\n",
       "50%         78.310000\n",
       "75%        250.720000\n",
       "max      40107.000000\n",
       "Name: lineTotal, dtype: float64"
      ]
     },
     "execution_count": 23,
     "metadata": {},
     "output_type": "execute_result"
    }
   ],
   "source": [
    "# items sold most frequently with tobacco\n",
    "\n",
    "# prepare dataframe\n",
    "itemsWTob = bkstsWTob\n",
    "itemsWTob = itemsWTob[itemsWTob['lineTotal'] > 0]\n",
    "itemsWTob= itemsWTob[[\"sub_cat_desc\",\"lineTotal\"]].copy()\n",
    "\n",
    "# Group and Sum by Subcategory\n",
    "itemsWTob = itemsWTob.groupby(by = [\"sub_cat_desc\"],as_index=False).sum()\n",
    "\n",
    "# prepare and display\n",
    "itemsWTob.sort_values(by=['lineTotal'], inplace = True, ascending= True)\n",
    "itemsWTob['lineTotal'].describe()"
   ]
  },
  {
   "cell_type": "code",
   "execution_count": 24,
   "metadata": {},
   "outputs": [
    {
     "data": {
      "text/plain": [
       "<function matplotlib.pyplot.show(close=None, block=None)>"
      ]
     },
     "execution_count": 24,
     "metadata": {},
     "output_type": "execute_result"
    },
    {
     "data": {
      "image/png": "[encoded data removed]",
      "text/plain": [
       "<Figure size 1296x144 with 1 Axes>"
      ]
     },
     "metadata": {
      "needs_background": "light"
     },
     "output_type": "display_data"
    }
   ],
   "source": [
    "# Create Boxplot of Subcategory Revenue\n",
    "green_diamond = dict(markerfacecolor='g', marker='D')\n",
    "#flierprops = dict(marker='o', markerfacecolor='green', markersize=12,\n",
    "                 # markeredgecolor='none')\n",
    "\n",
    "# flierprops=flierprops\n",
    "\n",
    "boxplot = itemsWTob.boxplot(column='lineTotal',vert=False, autorange=False, figsize = (18,2), whis=[5, 95], patch_artist=True, flierprops=green_diamond)\n",
    "plt.xlim([-500, 41000])\n",
    "plt.title(\"Revenue by Product Subcategory\")\n",
    "plt.xlabel(\"Revenue in Dollars\")\n",
    "plt.annotate(\"95% of product subcategories are \\n to the left of this upper whisker\",xy = (0,1.25))\n",
    "plt.show"
   ]
  },
  {
   "cell_type": "code",
   "execution_count": 25,
   "metadata": {
    "pycharm": {
     "name": "#%%\n"
    }
   },
   "outputs": [
    {
     "name": "stdout",
     "output_type": "stream",
     "text": [
      "These products above the 95.0 percentile in revenue account for $ 62893.23 in revenue.\n",
      "These 5.0 % of products account for 72.3 %  of the total$  86979 \n",
      "in associated product sales.\n"
     ]
    }
   ],
   "source": [
    "# Deep Dive into highest revenue subcategories\n",
    "# Set threshold for highest level subcategories\n",
    "quantileLevel = 0.95\n",
    "limit = round(itemsWTob['lineTotal'].quantile(quantileLevel),2)\n",
    "popItemsWTob = itemsWTob[itemsWTob['lineTotal'] > limit]\n",
    "\n",
    "# Calculate Revenue\n",
    "sumMostFreqProd = round(popItemsWTob['lineTotal'].sum(), 2)\n",
    "perOfAssocItems = round((sumMostFreqProd/assocItem_salesTotal)*100,1)\n",
    "\n",
    "print(f\"These products above the\",(quantileLevel*100),\"percentile in revenue account for $\", sumMostFreqProd, \"in revenue.\\n\"\n",
    "      \"These\", round((1-quantileLevel)*100,3), \"% of products account for\", perOfAssocItems, \"%  of the total$ \", assocItem_salesTotal, \n",
    "      \"\\nin associated product sales.\")"
   ]
  },
  {
   "cell_type": "code",
   "execution_count": 26,
   "metadata": {
    "pycharm": {
     "name": "#%%\n"
    }
   },
   "outputs": [
    {
     "data": {
      "text/html": [
       "<div>\n",
       "<style scoped>\n",
       "    .dataframe tbody tr th:only-of-type {\n",
       "        vertical-align: middle;\n",
       "    }\n",
       "\n",
       "    .dataframe tbody tr th {\n",
       "        vertical-align: top;\n",
       "    }\n",
       "\n",
       "    .dataframe thead th {\n",
       "        text-align: right;\n",
       "    }\n",
       "</style>\n",
       "<table border=\"1\" class=\"dataframe\">\n",
       "  <thead>\n",
       "    <tr style=\"text-align: right;\">\n",
       "      <th></th>\n",
       "      <th>sub_cat_desc</th>\n",
       "      <th>lineTotal</th>\n",
       "    </tr>\n",
       "  </thead>\n",
       "  <tbody>\n",
       "    <tr>\n",
       "      <th>57</th>\n",
       "      <td>EXTERNAL PAIN RELIEF</td>\n",
       "      <td>1268.82</td>\n",
       "    </tr>\n",
       "    <tr>\n",
       "      <th>41</th>\n",
       "      <td>COUGH, COLD, FLU &amp; SINUS</td>\n",
       "      <td>1572.26</td>\n",
       "    </tr>\n",
       "    <tr>\n",
       "      <th>114</th>\n",
       "      <td>PAIN RELIEF</td>\n",
       "      <td>1952.89</td>\n",
       "    </tr>\n",
       "    <tr>\n",
       "      <th>26</th>\n",
       "      <td>CANDY, MINTS &amp; GUM</td>\n",
       "      <td>2587.98</td>\n",
       "    </tr>\n",
       "    <tr>\n",
       "      <th>140</th>\n",
       "      <td>SNACKS &amp; DESSERTS</td>\n",
       "      <td>3068.93</td>\n",
       "    </tr>\n",
       "    <tr>\n",
       "      <th>22</th>\n",
       "      <td>BEVERAGES</td>\n",
       "      <td>3096.30</td>\n",
       "    </tr>\n",
       "    <tr>\n",
       "      <th>101</th>\n",
       "      <td>MISC VITAMINS</td>\n",
       "      <td>4466.49</td>\n",
       "    </tr>\n",
       "    <tr>\n",
       "      <th>4</th>\n",
       "      <td>ALL OTHER GREETING CARD LINES</td>\n",
       "      <td>4772.56</td>\n",
       "    </tr>\n",
       "    <tr>\n",
       "      <th>100</th>\n",
       "      <td>MISC HOME HEALTH CARE</td>\n",
       "      <td>40107.00</td>\n",
       "    </tr>\n",
       "  </tbody>\n",
       "</table>\n",
       "</div>"
      ],
      "text/plain": [
       "                      sub_cat_desc  lineTotal\n",
       "57            EXTERNAL PAIN RELIEF    1268.82\n",
       "41        COUGH, COLD, FLU & SINUS    1572.26\n",
       "114                    PAIN RELIEF    1952.89\n",
       "26              CANDY, MINTS & GUM    2587.98\n",
       "140              SNACKS & DESSERTS    3068.93\n",
       "22                       BEVERAGES    3096.30\n",
       "101                  MISC VITAMINS    4466.49\n",
       "4    ALL OTHER GREETING CARD LINES    4772.56\n",
       "100          MISC HOME HEALTH CARE   40107.00"
      ]
     },
     "execution_count": 26,
     "metadata": {},
     "output_type": "execute_result"
    }
   ],
   "source": [
    "#Print summary report\n",
    "popItemsWTob"
   ]
  },
  {
   "cell_type": "markdown",
   "metadata": {},
   "source": [
    "## Clean-up"
   ]
  },
  {
   "cell_type": "code",
   "execution_count": null,
   "metadata": {},
   "outputs": [],
   "source": [
    "db.close()"
   ]
  },
  {
   "cell_type": "code",
   "execution_count": null,
   "metadata": {},
   "outputs": [],
   "source": []
  }
 ],
 "metadata": {
  "kernelspec": {
   "display_name": "Python 3",
   "language": "python",
   "name": "python3"
  },
  "language_info": {
   "codemirror_mode": {
    "name": "ipython",
    "version": 3
   },
   "file_extension": ".py",
   "mimetype": "text/x-python",
   "name": "python",
   "nbconvert_exporter": "python",
   "pygments_lexer": "ipython3",
   "version": "3.8.5"
  }
 },
 "nbformat": 4,
 "nbformat_minor": 4
}
